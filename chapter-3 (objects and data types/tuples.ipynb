{
 "cells": [
  {
   "cell_type": "markdown",
   "id": "8f962ff2",
   "metadata": {},
   "source": [
    "<h3>Tuples</h3>"
   ]
  },
  {
   "cell_type": "markdown",
   "id": "2dcbafd6",
   "metadata": {},
   "source": [
    "\n",
    "**Lists** [ ]<br>\n",
    "**Dictionaries** { }<br>\n",
    "**tupples** ( )"
   ]
  },
  {
   "cell_type": "code",
   "execution_count": 1,
   "id": "1aaf9a66",
   "metadata": {},
   "outputs": [],
   "source": [
    "tupple_one = (1,2,3,4,5)"
   ]
  },
  {
   "cell_type": "code",
   "execution_count": 2,
   "id": "7e0e0bde",
   "metadata": {},
   "outputs": [],
   "source": [
    "list_one = [1,2,3,4,5]"
   ]
  },
  {
   "cell_type": "code",
   "execution_count": 3,
   "id": "1f15e434",
   "metadata": {},
   "outputs": [
    {
     "data": {
      "text/plain": [
       "tuple"
      ]
     },
     "execution_count": 3,
     "metadata": {},
     "output_type": "execute_result"
    }
   ],
   "source": [
    "type(tupple_one)"
   ]
  },
  {
   "cell_type": "code",
   "execution_count": 4,
   "id": "c329b153",
   "metadata": {},
   "outputs": [
    {
     "data": {
      "text/plain": [
       "list"
      ]
     },
     "execution_count": 4,
     "metadata": {},
     "output_type": "execute_result"
    }
   ],
   "source": [
    "type(list_one)"
   ]
  },
  {
   "cell_type": "code",
   "execution_count": 5,
   "id": "a548f8d9",
   "metadata": {},
   "outputs": [],
   "source": [
    "tupple_one  = (1, 2, 'three', 4, 5)"
   ]
  },
  {
   "cell_type": "code",
   "execution_count": 6,
   "id": "a90c5a4c",
   "metadata": {},
   "outputs": [
    {
     "data": {
      "text/plain": [
       "(1, 2, 'three', 4, 5)"
      ]
     },
     "execution_count": 6,
     "metadata": {},
     "output_type": "execute_result"
    }
   ],
   "source": [
    "tupple_one"
   ]
  },
  {
   "cell_type": "code",
   "execution_count": 7,
   "id": "805f16ae",
   "metadata": {},
   "outputs": [
    {
     "data": {
      "text/plain": [
       "5"
      ]
     },
     "execution_count": 7,
     "metadata": {},
     "output_type": "execute_result"
    }
   ],
   "source": [
    "tupple_one[4]"
   ]
  },
  {
   "cell_type": "code",
   "execution_count": 8,
   "id": "febafe1a",
   "metadata": {},
   "outputs": [
    {
     "data": {
      "text/plain": [
       "5"
      ]
     },
     "execution_count": 8,
     "metadata": {},
     "output_type": "execute_result"
    }
   ],
   "source": [
    "tupple_one[-1]"
   ]
  },
  {
   "cell_type": "code",
   "execution_count": 9,
   "id": "127cd0a6",
   "metadata": {},
   "outputs": [],
   "source": [
    "tupple_two = (1, 2, 3, 3, 3, 'a', 'a')"
   ]
  },
  {
   "cell_type": "code",
   "execution_count": 10,
   "id": "419362dc",
   "metadata": {},
   "outputs": [
    {
     "data": {
      "text/plain": [
       "3"
      ]
     },
     "execution_count": 10,
     "metadata": {},
     "output_type": "execute_result"
    }
   ],
   "source": [
    "tupple_two.count(3)"
   ]
  },
  {
   "cell_type": "code",
   "execution_count": 11,
   "id": "58128457",
   "metadata": {},
   "outputs": [
    {
     "data": {
      "text/plain": [
       "2"
      ]
     },
     "execution_count": 11,
     "metadata": {},
     "output_type": "execute_result"
    }
   ],
   "source": [
    "tupple_two.count('a')"
   ]
  },
  {
   "cell_type": "code",
   "execution_count": 12,
   "id": "d531855f",
   "metadata": {},
   "outputs": [
    {
     "data": {
      "text/plain": [
       "1"
      ]
     },
     "execution_count": 12,
     "metadata": {},
     "output_type": "execute_result"
    }
   ],
   "source": [
    "tupple_two.index(2)"
   ]
  },
  {
   "cell_type": "code",
   "execution_count": 13,
   "id": "2d61f988",
   "metadata": {},
   "outputs": [
    {
     "data": {
      "text/plain": [
       "[1, 2, 3, 4, 5]"
      ]
     },
     "execution_count": 13,
     "metadata": {},
     "output_type": "execute_result"
    }
   ],
   "source": [
    "list_one"
   ]
  },
  {
   "cell_type": "code",
   "execution_count": 14,
   "id": "670d2e67",
   "metadata": {},
   "outputs": [
    {
     "data": {
      "text/plain": [
       "(1, 2, 'three', 4, 5)"
      ]
     },
     "execution_count": 14,
     "metadata": {},
     "output_type": "execute_result"
    }
   ],
   "source": [
    "tupple_one"
   ]
  },
  {
   "cell_type": "code",
   "execution_count": 15,
   "id": "fa06cf56",
   "metadata": {},
   "outputs": [],
   "source": [
    "list_one[2] = 'three'"
   ]
  },
  {
   "cell_type": "code",
   "execution_count": 16,
   "id": "d3340ea8",
   "metadata": {},
   "outputs": [
    {
     "data": {
      "text/plain": [
       "[1, 2, 'three', 4, 5]"
      ]
     },
     "execution_count": 16,
     "metadata": {},
     "output_type": "execute_result"
    }
   ],
   "source": [
    "list_one"
   ]
  },
  {
   "cell_type": "markdown",
   "id": "2f6cd1fe",
   "metadata": {},
   "source": [
    "**End of basic for tupples**"
   ]
  }
 ],
 "metadata": {
  "kernelspec": {
   "display_name": "Python 3 (ipykernel)",
   "language": "python",
   "name": "python3"
  },
  "language_info": {
   "codemirror_mode": {
    "name": "ipython",
    "version": 3
   },
   "file_extension": ".py",
   "mimetype": "text/x-python",
   "name": "python",
   "nbconvert_exporter": "python",
   "pygments_lexer": "ipython3",
   "version": "3.9.7"
  }
 },
 "nbformat": 4,
 "nbformat_minor": 5
}
