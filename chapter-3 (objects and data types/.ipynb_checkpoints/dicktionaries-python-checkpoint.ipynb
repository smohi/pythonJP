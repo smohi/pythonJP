{
 "cells": [
  {
   "cell_type": "markdown",
   "id": "86f53632",
   "metadata": {},
   "source": [
    "<h3> Dictionaries</h3>"
   ]
  },
  {
   "cell_type": "markdown",
   "id": "4cd42ae5",
   "metadata": {},
   "source": [
    "**Dictionary vs List**\n",
    "\n",
    "***Dictionary***<br>\n",
    "*In Dictionaries objects are retrieved by key:value*\n",
    "*Unordered and cannot be sorted*\n",
    "\n",
    "***Lists***<br>\n",
    "*Objects are retrieved by location*\n",
    "*can be sorted, sliced, indexed, catinated etc*"
   ]
  },
  {
   "cell_type": "code",
   "execution_count": 1,
   "id": "d6c547df",
   "metadata": {},
   "outputs": [],
   "source": [
    "my_dict = {'key1' : 'value1', 'key2': 'value2'}"
   ]
  },
  {
   "cell_type": "code",
   "execution_count": 2,
   "id": "a7b6e890",
   "metadata": {},
   "outputs": [
    {
     "data": {
      "text/plain": [
       "'value1'"
      ]
     },
     "execution_count": 2,
     "metadata": {},
     "output_type": "execute_result"
    }
   ],
   "source": [
    "my_dict['key1']"
   ]
  },
  {
   "cell_type": "code",
   "execution_count": 3,
   "id": "23af51fd",
   "metadata": {},
   "outputs": [],
   "source": [
    "package_prices = {'Lily' : 5000, 'Jasmine' : 8000, 'Rose' : 12000}"
   ]
  },
  {
   "cell_type": "code",
   "execution_count": 5,
   "id": "403dbb70",
   "metadata": {},
   "outputs": [
    {
     "data": {
      "text/plain": [
       "5000"
      ]
     },
     "execution_count": 5,
     "metadata": {},
     "output_type": "execute_result"
    }
   ],
   "source": [
    "package_prices['Lily']"
   ]
  },
  {
   "cell_type": "code",
   "execution_count": 6,
   "id": "62e310f6",
   "metadata": {},
   "outputs": [],
   "source": [
    "services_pricing = {'Web Developing' : {'WordPress' : 10000, 'Laravel' : 15000, \"MERN\" : 50000}, 'Digital Marketing' : package_prices}"
   ]
  },
  {
   "cell_type": "code",
   "execution_count": 8,
   "id": "12d3a720",
   "metadata": {},
   "outputs": [
    {
     "name": "stdout",
     "output_type": "stream",
     "text": [
      "{'WordPress': 10000, 'Laravel': 15000, 'MERN': 50000}\n"
     ]
    }
   ],
   "source": [
    "print(services_pricing['Web Developing'])"
   ]
  },
  {
   "cell_type": "code",
   "execution_count": 13,
   "id": "c3672764",
   "metadata": {},
   "outputs": [
    {
     "name": "stdout",
     "output_type": "stream",
     "text": [
      "15000\n"
     ]
    }
   ],
   "source": [
    "print(services_pricing['Web Developing']['Laravel'])"
   ]
  },
  {
   "cell_type": "code",
   "execution_count": 14,
   "id": "d4049019",
   "metadata": {},
   "outputs": [
    {
     "name": "stdout",
     "output_type": "stream",
     "text": [
      "5000\n"
     ]
    }
   ],
   "source": [
    "print(services_pricing['Digital Marketing']['Lily'])"
   ]
  },
  {
   "cell_type": "code",
   "execution_count": 23,
   "id": "7a2cbc86",
   "metadata": {},
   "outputs": [],
   "source": [
    "dm_lily = (services_pricing['Digital Marketing']['Lily'])"
   ]
  },
  {
   "cell_type": "code",
   "execution_count": 26,
   "id": "a574fd06",
   "metadata": {},
   "outputs": [
    {
     "name": "stdout",
     "output_type": "stream",
     "text": [
      "16000.0\n"
     ]
    }
   ],
   "source": [
    "dream_group_bill = (dm_lily * 4)\n",
    "dream_group_disc = (dream_group_bill * .2)\n",
    "dream_group_bill = dream_group_bill - dream_group_disc\n",
    "print(dream_group_bill)"
   ]
  },
  {
   "cell_type": "code",
   "execution_count": 27,
   "id": "5f651379",
   "metadata": {},
   "outputs": [],
   "source": [
    "append_dict_test = {'a' : 1, 'b' : 2}"
   ]
  },
  {
   "cell_type": "code",
   "execution_count": 28,
   "id": "7bcf9f49",
   "metadata": {},
   "outputs": [],
   "source": [
    "append_dict_test['c'] = 3"
   ]
  },
  {
   "cell_type": "code",
   "execution_count": 29,
   "id": "818de71b",
   "metadata": {},
   "outputs": [
    {
     "data": {
      "text/plain": [
       "{'a': 1, 'b': 2, 'c': 3}"
      ]
     },
     "execution_count": 29,
     "metadata": {},
     "output_type": "execute_result"
    }
   ],
   "source": [
    "append_dict_test"
   ]
  },
  {
   "cell_type": "code",
   "execution_count": 30,
   "id": "863c8556",
   "metadata": {},
   "outputs": [],
   "source": [
    "append_dict_test['b'] = 'two'"
   ]
  },
  {
   "cell_type": "code",
   "execution_count": 31,
   "id": "2611d775",
   "metadata": {},
   "outputs": [
    {
     "data": {
      "text/plain": [
       "{'a': 1, 'b': 'two', 'c': 3}"
      ]
     },
     "execution_count": 31,
     "metadata": {},
     "output_type": "execute_result"
    }
   ],
   "source": [
    "append_dict_test"
   ]
  },
  {
   "cell_type": "code",
   "execution_count": 32,
   "id": "f2e60af4",
   "metadata": {},
   "outputs": [
    {
     "data": {
      "text/plain": [
       "dict_keys(['a', 'b', 'c'])"
      ]
     },
     "execution_count": 32,
     "metadata": {},
     "output_type": "execute_result"
    }
   ],
   "source": [
    "append_dict_test.keys()"
   ]
  },
  {
   "cell_type": "code",
   "execution_count": 33,
   "id": "415e2a07",
   "metadata": {},
   "outputs": [
    {
     "data": {
      "text/plain": [
       "dict_values([1, 'two', 3])"
      ]
     },
     "execution_count": 33,
     "metadata": {},
     "output_type": "execute_result"
    }
   ],
   "source": [
    "append_dict_test.values()"
   ]
  },
  {
   "cell_type": "code",
   "execution_count": 34,
   "id": "ec56b43c",
   "metadata": {},
   "outputs": [
    {
     "data": {
      "text/plain": [
       "dict_items([('a', 1), ('b', 'two'), ('c', 3)])"
      ]
     },
     "execution_count": 34,
     "metadata": {},
     "output_type": "execute_result"
    }
   ],
   "source": [
    "append_dict_test.items()"
   ]
  },
  {
   "cell_type": "markdown",
   "id": "ef6bd02f",
   "metadata": {},
   "source": [
    "**End of basic dictionary operations**"
   ]
  }
 ],
 "metadata": {
  "kernelspec": {
   "display_name": "Python 3 (ipykernel)",
   "language": "python",
   "name": "python3"
  },
  "language_info": {
   "codemirror_mode": {
    "name": "ipython",
    "version": 3
   },
   "file_extension": ".py",
   "mimetype": "text/x-python",
   "name": "python",
   "nbconvert_exporter": "python",
   "pygments_lexer": "ipython3",
   "version": "3.9.7"
  }
 },
 "nbformat": 4,
 "nbformat_minor": 5
}
