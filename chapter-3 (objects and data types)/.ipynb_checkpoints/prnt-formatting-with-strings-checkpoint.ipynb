{
 "cells": [
  {
   "cell_type": "markdown",
   "id": "e5d1178c",
   "metadata": {},
   "source": [
    "<h3>Formatting with the .format Method</h3>"
   ]
  },
  {
   "cell_type": "code",
   "execution_count": 1,
   "id": "a345db34",
   "metadata": {},
   "outputs": [
    {
     "name": "stdout",
     "output_type": "stream",
     "text": [
      "Hello Beautiful world\n"
     ]
    }
   ],
   "source": [
    "print(\"Hello Beautiful {}\".format(\"world\"))"
   ]
  },
  {
   "cell_type": "code",
   "execution_count": 2,
   "id": "3ebbd07d",
   "metadata": {},
   "outputs": [
    {
     "name": "stdout",
     "output_type": "stream",
     "text": [
      "Hello Beautiful People, Around the World!\n"
     ]
    }
   ],
   "source": [
    "print(\"Hello Beautiful {}, {}\" .format(\"People\", \"Around the World!\"))"
   ]
  },
  {
   "cell_type": "code",
   "execution_count": 3,
   "id": "9c4da542",
   "metadata": {},
   "outputs": [
    {
     "name": "stdout",
     "output_type": "stream",
     "text": [
      "The fox quick brown\n"
     ]
    }
   ],
   "source": [
    "print(\"The {} {} {}\" . format(\"fox\", \"quick\", \"brown\"))"
   ]
  },
  {
   "cell_type": "code",
   "execution_count": 4,
   "id": "31ab2b8b",
   "metadata": {},
   "outputs": [
    {
     "name": "stdout",
     "output_type": "stream",
     "text": [
      "The quick brown fox\n"
     ]
    }
   ],
   "source": [
    "print(\"The {1} {2} {0}\" . format(\"fox\", \"quick\", \"brown\"))"
   ]
  },
  {
   "cell_type": "code",
   "execution_count": 5,
   "id": "a518ad5a",
   "metadata": {},
   "outputs": [
    {
     "name": "stdout",
     "output_type": "stream",
     "text": [
      "The quick brown fox\n"
     ]
    }
   ],
   "source": [
    "print(\"The {q} {b} {f}\" . format(f=\"fox\", q=\"quick\", b=\"brown\"))"
   ]
  },
  {
   "cell_type": "code",
   "execution_count": 6,
   "id": "b3db3292",
   "metadata": {},
   "outputs": [
    {
     "name": "stdout",
     "output_type": "stream",
     "text": [
      "The quick brown fox fox\n"
     ]
    }
   ],
   "source": [
    "print(\"The {q} {b} {f} {f}\" . format(f=\"fox\", q=\"quick\", b=\"brown\"))"
   ]
  },
  {
   "cell_type": "markdown",
   "id": "0831a9e9",
   "metadata": {},
   "source": [
    "<b>Float Formatting</b>"
   ]
  },
  {
   "cell_type": "code",
   "execution_count": 7,
   "id": "97b7ef03",
   "metadata": {},
   "outputs": [],
   "source": [
    "result = 10/9"
   ]
  },
  {
   "cell_type": "code",
   "execution_count": 8,
   "id": "d67afae8",
   "metadata": {},
   "outputs": [
    {
     "name": "stdout",
     "output_type": "stream",
     "text": [
      "1.1111111111111112\n"
     ]
    }
   ],
   "source": [
    "print(result)"
   ]
  },
  {
   "cell_type": "code",
   "execution_count": 14,
   "id": "9535f69d",
   "metadata": {},
   "outputs": [
    {
     "name": "stdout",
     "output_type": "stream",
     "text": [
      "1.11\n"
     ]
    }
   ],
   "source": [
    "print(\"{r:1.3}\" .format(r=result))"
   ]
  },
  {
   "cell_type": "markdown",
   "id": "d7dafeb0",
   "metadata": {},
   "source": [
    "<b> f.string</b>"
   ]
  },
  {
   "cell_type": "code",
   "execution_count": 15,
   "id": "9fadda70",
   "metadata": {},
   "outputs": [],
   "source": [
    "name= \"Sourov\""
   ]
  },
  {
   "cell_type": "code",
   "execution_count": 16,
   "id": "ae0b36fc",
   "metadata": {},
   "outputs": [
    {
     "name": "stdout",
     "output_type": "stream",
     "text": [
      "Hello Sourov\n"
     ]
    }
   ],
   "source": [
    "print(f\"Hello {name}\")"
   ]
  },
  {
   "cell_type": "code",
   "execution_count": 17,
   "id": "637a7ba5",
   "metadata": {},
   "outputs": [],
   "source": [
    "age = 28"
   ]
  },
  {
   "cell_type": "code",
   "execution_count": 18,
   "id": "7c7f9184",
   "metadata": {},
   "outputs": [
    {
     "name": "stdout",
     "output_type": "stream",
     "text": [
      "The name is Sourov and age's 28\n"
     ]
    }
   ],
   "source": [
    "print(f\"The name is {name} and age's {age}\")"
   ]
  },
  {
   "cell_type": "markdown",
   "id": "8d55d3e6",
   "metadata": {},
   "source": [
    "<b>End of basics today! There are more in the template notebook file</b>"
   ]
  }
 ],
 "metadata": {
  "kernelspec": {
   "display_name": "Python 3 (ipykernel)",
   "language": "python",
   "name": "python3"
  },
  "language_info": {
   "codemirror_mode": {
    "name": "ipython",
    "version": 3
   },
   "file_extension": ".py",
   "mimetype": "text/x-python",
   "name": "python",
   "nbconvert_exporter": "python",
   "pygments_lexer": "ipython3",
   "version": "3.9.7"
  }
 },
 "nbformat": 4,
 "nbformat_minor": 5
}
