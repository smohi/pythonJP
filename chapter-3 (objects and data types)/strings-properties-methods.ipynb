{
 "cells": [
  {
   "cell_type": "markdown",
   "id": "4b6afbb5",
   "metadata": {},
   "source": [
    "<h3>Immutability</h3>"
   ]
  },
  {
   "cell_type": "code",
   "execution_count": 2,
   "id": "8a7fad0b",
   "metadata": {},
   "outputs": [],
   "source": [
    "name = \"Josh\""
   ]
  },
  {
   "cell_type": "code",
   "execution_count": 3,
   "id": "ea4dc46d",
   "metadata": {},
   "outputs": [],
   "source": [
    "name = \"T\" + name[1:]"
   ]
  },
  {
   "cell_type": "code",
   "execution_count": 4,
   "id": "3e8a3a32",
   "metadata": {},
   "outputs": [
    {
     "data": {
      "text/plain": [
       "'Tosh'"
      ]
     },
     "execution_count": 4,
     "metadata": {},
     "output_type": "execute_result"
    }
   ],
   "source": [
    "name"
   ]
  },
  {
   "cell_type": "code",
   "execution_count": 5,
   "id": "2bd446eb",
   "metadata": {},
   "outputs": [
    {
     "data": {
      "text/plain": [
       "'ToshToshToshToshToshToshToshToshToshTosh'"
      ]
     },
     "execution_count": 5,
     "metadata": {},
     "output_type": "execute_result"
    }
   ],
   "source": [
    "name * 10"
   ]
  },
  {
   "cell_type": "markdown",
   "id": "37dad952",
   "metadata": {},
   "source": [
    "<b>build-in methods</b>"
   ]
  },
  {
   "cell_type": "code",
   "execution_count": 6,
   "id": "ae3a64e9",
   "metadata": {},
   "outputs": [],
   "source": [
    "x = \"Hello World\""
   ]
  },
  {
   "cell_type": "code",
   "execution_count": 7,
   "id": "fea1d468",
   "metadata": {},
   "outputs": [
    {
     "data": {
      "text/plain": [
       "'HELLO WORLD'"
      ]
     },
     "execution_count": 7,
     "metadata": {},
     "output_type": "execute_result"
    }
   ],
   "source": [
    "x.upper()"
   ]
  },
  {
   "cell_type": "code",
   "execution_count": 8,
   "id": "ea29dace",
   "metadata": {},
   "outputs": [
    {
     "data": {
      "text/plain": [
       "'Hello World'"
      ]
     },
     "execution_count": 8,
     "metadata": {},
     "output_type": "execute_result"
    }
   ],
   "source": [
    "x"
   ]
  },
  {
   "cell_type": "code",
   "execution_count": 9,
   "id": "d7616d49",
   "metadata": {},
   "outputs": [
    {
     "data": {
      "text/plain": [
       "'hello world'"
      ]
     },
     "execution_count": 9,
     "metadata": {},
     "output_type": "execute_result"
    }
   ],
   "source": [
    "x.lower()"
   ]
  },
  {
   "cell_type": "code",
   "execution_count": 10,
   "id": "ebb678ec",
   "metadata": {},
   "outputs": [
    {
     "data": {
      "text/plain": [
       "['Hello', 'World']"
      ]
     },
     "execution_count": 10,
     "metadata": {},
     "output_type": "execute_result"
    }
   ],
   "source": [
    "x.split()"
   ]
  },
  {
   "cell_type": "code",
   "execution_count": 17,
   "id": "0869110e",
   "metadata": {},
   "outputs": [],
   "source": [
    "number_string = \"1,2,3,4,5\""
   ]
  },
  {
   "cell_type": "code",
   "execution_count": 18,
   "id": "aa68cd36",
   "metadata": {},
   "outputs": [
    {
     "data": {
      "text/plain": [
       "['1', '2', '3', '4', '5']"
      ]
     },
     "execution_count": 18,
     "metadata": {},
     "output_type": "execute_result"
    }
   ],
   "source": [
    "number_string.split(',')"
   ]
  },
  {
   "cell_type": "code",
   "execution_count": 19,
   "id": "a88f3f72",
   "metadata": {},
   "outputs": [
    {
     "name": "stdout",
     "output_type": "stream",
     "text": [
      "Hello World\n"
     ]
    }
   ],
   "source": [
    "print(x)"
   ]
  },
  {
   "cell_type": "markdown",
   "id": "aedc27f1",
   "metadata": {},
   "source": [
    "end of string properties methods"
   ]
  }
 ],
 "metadata": {
  "kernelspec": {
   "display_name": "Python 3 (ipykernel)",
   "language": "python",
   "name": "python3"
  },
  "language_info": {
   "codemirror_mode": {
    "name": "ipython",
    "version": 3
   },
   "file_extension": ".py",
   "mimetype": "text/x-python",
   "name": "python",
   "nbconvert_exporter": "python",
   "pygments_lexer": "ipython3",
   "version": "3.9.7"
  }
 },
 "nbformat": 4,
 "nbformat_minor": 5
}
