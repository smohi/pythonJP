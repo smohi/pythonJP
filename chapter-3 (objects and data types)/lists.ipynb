{
 "cells": [
  {
   "cell_type": "markdown",
   "id": "f4243fe5",
   "metadata": {},
   "source": [
    "<h3>Lists</h3>"
   ]
  },
  {
   "cell_type": "code",
   "execution_count": 3,
   "id": "a2c33695",
   "metadata": {},
   "outputs": [],
   "source": [
    "my_list = [1, 2, 3]"
   ]
  },
  {
   "cell_type": "code",
   "execution_count": 4,
   "id": "3694056f",
   "metadata": {},
   "outputs": [
    {
     "name": "stdout",
     "output_type": "stream",
     "text": [
      "[1, 2, 3]\n"
     ]
    }
   ],
   "source": [
    "print(my_list)"
   ]
  },
  {
   "cell_type": "code",
   "execution_count": 5,
   "id": "9cb5fa88",
   "metadata": {},
   "outputs": [],
   "source": [
    "my_list = [3, \"hello world\", 2.55]"
   ]
  },
  {
   "cell_type": "code",
   "execution_count": 6,
   "id": "22265ca9",
   "metadata": {},
   "outputs": [
    {
     "data": {
      "text/plain": [
       "3"
      ]
     },
     "execution_count": 6,
     "metadata": {},
     "output_type": "execute_result"
    }
   ],
   "source": [
    "len(my_list)"
   ]
  },
  {
   "cell_type": "code",
   "execution_count": 7,
   "id": "42049c4a",
   "metadata": {},
   "outputs": [
    {
     "name": "stdout",
     "output_type": "stream",
     "text": [
      "[3, 'hello world', 2.55]\n"
     ]
    }
   ],
   "source": [
    "print(my_list\n",
    "     )"
   ]
  },
  {
   "cell_type": "code",
   "execution_count": 8,
   "id": "cbf939dd",
   "metadata": {},
   "outputs": [
    {
     "name": "stdout",
     "output_type": "stream",
     "text": [
      "['hello world', 2.55]\n"
     ]
    }
   ],
   "source": [
    "print(my_list[1:])"
   ]
  },
  {
   "cell_type": "code",
   "execution_count": 9,
   "id": "6489db99",
   "metadata": {},
   "outputs": [
    {
     "name": "stdout",
     "output_type": "stream",
     "text": [
      "[3, 'hello world']\n"
     ]
    }
   ],
   "source": [
    "print(my_list[:2])"
   ]
  },
  {
   "cell_type": "code",
   "execution_count": 10,
   "id": "f633e398",
   "metadata": {},
   "outputs": [],
   "source": [
    "second_list = [\"2nd\", 1]"
   ]
  },
  {
   "cell_type": "code",
   "execution_count": 11,
   "id": "59d4ff69",
   "metadata": {},
   "outputs": [],
   "source": [
    "catinated_list = my_list + second_list"
   ]
  },
  {
   "cell_type": "code",
   "execution_count": 12,
   "id": "584750a6",
   "metadata": {},
   "outputs": [
    {
     "name": "stdout",
     "output_type": "stream",
     "text": [
      "[3, 'hello world', 2.55, '2nd', 1]\n"
     ]
    }
   ],
   "source": [
    "print(catinated_list\n",
    "     )"
   ]
  },
  {
   "cell_type": "code",
   "execution_count": 13,
   "id": "c57f20c0",
   "metadata": {},
   "outputs": [
    {
     "data": {
      "text/plain": [
       "[3, 'hello world', 2.55, '2nd', 1]"
      ]
     },
     "execution_count": 13,
     "metadata": {},
     "output_type": "execute_result"
    }
   ],
   "source": [
    "catinated_list"
   ]
  },
  {
   "cell_type": "code",
   "execution_count": 14,
   "id": "bfb85944",
   "metadata": {},
   "outputs": [],
   "source": [
    "catinated_list[2] = 2.56"
   ]
  },
  {
   "cell_type": "code",
   "execution_count": 15,
   "id": "22d22a75",
   "metadata": {},
   "outputs": [
    {
     "data": {
      "text/plain": [
       "[3, 'hello world', 2.56, '2nd', 1]"
      ]
     },
     "execution_count": 15,
     "metadata": {},
     "output_type": "execute_result"
    }
   ],
   "source": [
    "catinated_list"
   ]
  },
  {
   "cell_type": "code",
   "execution_count": 16,
   "id": "5e53be32",
   "metadata": {},
   "outputs": [],
   "source": [
    "catinated_list.append('end item for append')"
   ]
  },
  {
   "cell_type": "code",
   "execution_count": 17,
   "id": "51d1e4f0",
   "metadata": {},
   "outputs": [
    {
     "data": {
      "text/plain": [
       "[3, 'hello world', 2.56, '2nd', 1, 'end item for append']"
      ]
     },
     "execution_count": 17,
     "metadata": {},
     "output_type": "execute_result"
    }
   ],
   "source": [
    "catinated_list"
   ]
  },
  {
   "cell_type": "code",
   "execution_count": 19,
   "id": "a3cdc08f",
   "metadata": {},
   "outputs": [
    {
     "data": {
      "text/plain": [
       "'end item for append'"
      ]
     },
     "execution_count": 19,
     "metadata": {},
     "output_type": "execute_result"
    }
   ],
   "source": [
    "catinated_list.pop()"
   ]
  },
  {
   "cell_type": "code",
   "execution_count": 20,
   "id": "2637a539",
   "metadata": {},
   "outputs": [
    {
     "data": {
      "text/plain": [
       "[3, 'hello world', 2.56, '2nd', 1]"
      ]
     },
     "execution_count": 20,
     "metadata": {},
     "output_type": "execute_result"
    }
   ],
   "source": [
    "catinated_list"
   ]
  },
  {
   "cell_type": "code",
   "execution_count": 22,
   "id": "ba334c19",
   "metadata": {},
   "outputs": [
    {
     "data": {
      "text/plain": [
       "2.56"
      ]
     },
     "execution_count": 22,
     "metadata": {},
     "output_type": "execute_result"
    }
   ],
   "source": [
    "catinated_list.pop(2)"
   ]
  },
  {
   "cell_type": "code",
   "execution_count": 23,
   "id": "596ef95b",
   "metadata": {},
   "outputs": [
    {
     "data": {
      "text/plain": [
       "[3, 'hello world', '2nd', 1]"
      ]
     },
     "execution_count": 23,
     "metadata": {},
     "output_type": "execute_result"
    }
   ],
   "source": [
    "catinated_list"
   ]
  },
  {
   "cell_type": "code",
   "execution_count": 24,
   "id": "9af3f528",
   "metadata": {},
   "outputs": [],
   "source": [
    "catinated_list.reverse()"
   ]
  },
  {
   "cell_type": "code",
   "execution_count": 25,
   "id": "dea354b5",
   "metadata": {},
   "outputs": [
    {
     "data": {
      "text/plain": [
       "[1, '2nd', 'hello world', 3]"
      ]
     },
     "execution_count": 25,
     "metadata": {},
     "output_type": "execute_result"
    }
   ],
   "source": [
    "catinated_list"
   ]
  },
  {
   "cell_type": "code",
   "execution_count": 28,
   "id": "d29b6839",
   "metadata": {},
   "outputs": [],
   "source": [
    "test_sort_list = [1, 4, 5, 2]"
   ]
  },
  {
   "cell_type": "code",
   "execution_count": 29,
   "id": "d4d0069f",
   "metadata": {},
   "outputs": [],
   "source": [
    "test_sort_list.sort()"
   ]
  },
  {
   "cell_type": "code",
   "execution_count": 30,
   "id": "fe05d2b4",
   "metadata": {},
   "outputs": [
    {
     "data": {
      "text/plain": [
       "[1, 2, 4, 5]"
      ]
     },
     "execution_count": 30,
     "metadata": {},
     "output_type": "execute_result"
    }
   ],
   "source": [
    "test_sort_list"
   ]
  },
  {
   "cell_type": "code",
   "execution_count": 31,
   "id": "1aaa2427",
   "metadata": {},
   "outputs": [],
   "source": [
    "test_sort_list = [1, 2, 5, 4]"
   ]
  },
  {
   "cell_type": "code",
   "execution_count": 32,
   "id": "df92bef0",
   "metadata": {},
   "outputs": [
    {
     "name": "stdout",
     "output_type": "stream",
     "text": [
      "None\n"
     ]
    }
   ],
   "source": [
    "print(test_sort_list.sort())"
   ]
  },
  {
   "cell_type": "code",
   "execution_count": 33,
   "id": "854b336b",
   "metadata": {},
   "outputs": [
    {
     "data": {
      "text/plain": [
       "[1, 2, 4, 5]"
      ]
     },
     "execution_count": 33,
     "metadata": {},
     "output_type": "execute_result"
    }
   ],
   "source": [
    "test_sort_list"
   ]
  },
  {
   "cell_type": "markdown",
   "id": "6e07fac1",
   "metadata": {},
   "source": [
    "<b>end of lists basics</b>"
   ]
  }
 ],
 "metadata": {
  "kernelspec": {
   "display_name": "Python 3 (ipykernel)",
   "language": "python",
   "name": "python3"
  },
  "language_info": {
   "codemirror_mode": {
    "name": "ipython",
    "version": 3
   },
   "file_extension": ".py",
   "mimetype": "text/x-python",
   "name": "python",
   "nbconvert_exporter": "python",
   "pygments_lexer": "ipython3",
   "version": "3.9.7"
  }
 },
 "nbformat": 4,
 "nbformat_minor": 5
}
