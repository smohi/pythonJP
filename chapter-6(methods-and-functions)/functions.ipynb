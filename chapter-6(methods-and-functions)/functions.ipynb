{
 "cells": [
  {
   "cell_type": "markdown",
   "id": "74bf7638",
   "metadata": {},
   "source": [
    "<h3>Functions</h>"
   ]
  },
  {
   "cell_type": "code",
   "execution_count": 4,
   "id": "7cfca647",
   "metadata": {},
   "outputs": [],
   "source": [
    "def name_func():\n",
    "    '''\n",
    "    Information about the function\n",
    "    Input: No input\n",
    "    Output: Print Hello\n",
    "    '''\n",
    "    print('Hello')"
   ]
  },
  {
   "cell_type": "code",
   "execution_count": 5,
   "id": "1fc20db1",
   "metadata": {},
   "outputs": [
    {
     "name": "stdout",
     "output_type": "stream",
     "text": [
      "Hello\n"
     ]
    }
   ],
   "source": [
    "name_func()"
   ]
  },
  {
   "cell_type": "code",
   "execution_count": 14,
   "id": "ec4fd1e2",
   "metadata": {},
   "outputs": [],
   "source": [
    "def name_func2(name):\n",
    "    '''\n",
    "    Information about the function\n",
    "    Input: No input\n",
    "    Output: Print Hello + name\n",
    "    '''\n",
    "    return('Hello ' + name)"
   ]
  },
  {
   "cell_type": "code",
   "execution_count": 15,
   "id": "2cd645c9",
   "metadata": {},
   "outputs": [
    {
     "data": {
      "text/plain": [
       "'Hello Smohi'"
      ]
     },
     "execution_count": 15,
     "metadata": {},
     "output_type": "execute_result"
    }
   ],
   "source": [
    "name_func2('Smohi')"
   ]
  },
  {
   "cell_type": "code",
   "execution_count": 16,
   "id": "18a1f198",
   "metadata": {},
   "outputs": [],
   "source": [
    "def add(n1,n2):\n",
    "    '''\n",
    "    Adding two numbers\n",
    "    input: two int or float variables\n",
    "    output: the addition of the variables\n",
    "    '''\n",
    "    return n1 + n2"
   ]
  },
  {
   "cell_type": "code",
   "execution_count": 17,
   "id": "1ec7ee34",
   "metadata": {},
   "outputs": [],
   "source": [
    "result = add(124,6)"
   ]
  },
  {
   "cell_type": "code",
   "execution_count": 18,
   "id": "7dfc3c1d",
   "metadata": {},
   "outputs": [
    {
     "data": {
      "text/plain": [
       "130"
      ]
     },
     "execution_count": 18,
     "metadata": {},
     "output_type": "execute_result"
    }
   ],
   "source": [
    "result"
   ]
  },
  {
   "cell_type": "code",
   "execution_count": 19,
   "id": "5c7d21e4",
   "metadata": {},
   "outputs": [],
   "source": [
    "# finding out if word 'cat' avaiable in a string"
   ]
  },
  {
   "cell_type": "code",
   "execution_count": 26,
   "id": "d0f50a69",
   "metadata": {},
   "outputs": [],
   "source": [
    "def check_cat(s):\n",
    "    '''\n",
    "    finding out cat function\n",
    "    input: string\n",
    "    output: boolean true or false\n",
    "    '''\n",
    "#     check = False\n",
    "#     for word in s.split():\n",
    "#         if word == 'cat':\n",
    "#             check = True\n",
    "\n",
    "    if 'cat' in s.lower():\n",
    "        return True\n",
    "    else:\n",
    "        return False"
   ]
  },
  {
   "cell_type": "code",
   "execution_count": 27,
   "id": "1dac8320",
   "metadata": {},
   "outputs": [
    {
     "data": {
      "text/plain": [
       "True"
      ]
     },
     "execution_count": 27,
     "metadata": {},
     "output_type": "execute_result"
    }
   ],
   "source": [
    "check_cat('there was a white cat')"
   ]
  },
  {
   "cell_type": "code",
   "execution_count": 28,
   "id": "f1b554b7",
   "metadata": {},
   "outputs": [
    {
     "data": {
      "text/plain": [
       "False"
      ]
     },
     "execution_count": 28,
     "metadata": {},
     "output_type": "execute_result"
    }
   ],
   "source": [
    "check_cat('hi dog! how are you?')"
   ]
  },
  {
   "cell_type": "code",
   "execution_count": 29,
   "id": "ff558c3b",
   "metadata": {},
   "outputs": [
    {
     "data": {
      "text/plain": [
       "True"
      ]
     },
     "execution_count": 29,
     "metadata": {},
     "output_type": "execute_result"
    }
   ],
   "source": [
    "check_cat(\"funny that a Cat cannot jump like a kangaroo!\")"
   ]
  },
  {
   "cell_type": "code",
   "execution_count": 30,
   "id": "09cbedfe",
   "metadata": {},
   "outputs": [],
   "source": [
    "def check_bird(s):\n",
    "    return 'bird' in s.lower()"
   ]
  },
  {
   "cell_type": "code",
   "execution_count": 31,
   "id": "bca0e711",
   "metadata": {},
   "outputs": [
    {
     "data": {
      "text/plain": [
       "True"
      ]
     },
     "execution_count": 31,
     "metadata": {},
     "output_type": "execute_result"
    }
   ],
   "source": [
    "check_bird('Hello Bird')"
   ]
  },
  {
   "cell_type": "markdown",
   "id": "86402f35",
   "metadata": {},
   "source": [
    "**PIG Latin**"
   ]
  },
  {
   "cell_type": "code",
   "execution_count": 34,
   "id": "3074f92f",
   "metadata": {},
   "outputs": [],
   "source": [
    " def pig_latin(w):\n",
    "        first_letter = w[0]\n",
    "        \n",
    "        if first_letter.lower() in 'aeiou':\n",
    "            return w + 'ay'\n",
    "        else:\n",
    "            return w[1:] + w[0] + 'ay'"
   ]
  },
  {
   "cell_type": "code",
   "execution_count": 35,
   "id": "f79aac19",
   "metadata": {},
   "outputs": [
    {
     "data": {
      "text/plain": [
       "'ordway'"
      ]
     },
     "execution_count": 35,
     "metadata": {},
     "output_type": "execute_result"
    }
   ],
   "source": [
    "pig_latin('word')"
   ]
  },
  {
   "cell_type": "code",
   "execution_count": 36,
   "id": "aae166e3",
   "metadata": {},
   "outputs": [
    {
     "data": {
      "text/plain": [
       "'Appleay'"
      ]
     },
     "execution_count": 36,
     "metadata": {},
     "output_type": "execute_result"
    }
   ],
   "source": [
    "pig_latin('Apple')"
   ]
  },
  {
   "cell_type": "code",
   "execution_count": 37,
   "id": "1a69be46",
   "metadata": {},
   "outputs": [
    {
     "data": {
      "text/plain": [
       "'inneGay'"
      ]
     },
     "execution_count": 37,
     "metadata": {},
     "output_type": "execute_result"
    }
   ],
   "source": [
    "pig_latin('Ginne')"
   ]
  },
  {
   "cell_type": "markdown",
   "id": "d07f03f3",
   "metadata": {},
   "source": [
    "**End of functions basics**"
   ]
  }
 ],
 "metadata": {
  "kernelspec": {
   "display_name": "Python 3 (ipykernel)",
   "language": "python",
   "name": "python3"
  },
  "language_info": {
   "codemirror_mode": {
    "name": "ipython",
    "version": 3
   },
   "file_extension": ".py",
   "mimetype": "text/x-python",
   "name": "python",
   "nbconvert_exporter": "python",
   "pygments_lexer": "ipython3",
   "version": "3.9.7"
  }
 },
 "nbformat": 4,
 "nbformat_minor": 5
}
