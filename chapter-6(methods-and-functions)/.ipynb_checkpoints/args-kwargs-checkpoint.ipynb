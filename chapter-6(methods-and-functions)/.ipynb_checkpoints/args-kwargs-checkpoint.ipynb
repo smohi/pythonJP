{
 "cells": [
  {
   "cell_type": "markdown",
   "id": "b1890f54",
   "metadata": {},
   "source": [
    "<h3> * args and *** kwargs </h3>"
   ]
  },
  {
   "cell_type": "code",
   "execution_count": 3,
   "id": "a40f3207",
   "metadata": {},
   "outputs": [],
   "source": [
    "def myfunc(a,b):\n",
    "    '''\n",
    "    returns 5% of the sum of a,b\n",
    "    input: two variable a,b\n",
    "    '''\n",
    "    return sum((a,b)) * 0.05"
   ]
  },
  {
   "cell_type": "code",
   "execution_count": 4,
   "id": "9f429056",
   "metadata": {},
   "outputs": [
    {
     "data": {
      "text/plain": [
       "5.0"
      ]
     },
     "execution_count": 4,
     "metadata": {},
     "output_type": "execute_result"
    }
   ],
   "source": [
    "myfunc(40,60)"
   ]
  },
  {
   "cell_type": "markdown",
   "id": "672691e4",
   "metadata": {},
   "source": [
    "*args comes where we need to take as many as parameters to take in a function as a tupple*"
   ]
  },
  {
   "cell_type": "code",
   "execution_count": 7,
   "id": "c7966e2f",
   "metadata": {},
   "outputs": [],
   "source": [
    "def myfunc_a(*arg):\n",
    "    '''\n",
    "    returns 5% of the sum of a,b using arg\n",
    "    input: two variable a,b\n",
    "    '''\n",
    "    return sum((arg)) * 0.05"
   ]
  },
  {
   "cell_type": "code",
   "execution_count": 8,
   "id": "3587643e",
   "metadata": {},
   "outputs": [
    {
     "data": {
      "text/plain": [
       "3.5"
      ]
     },
     "execution_count": 8,
     "metadata": {},
     "output_type": "execute_result"
    }
   ],
   "source": [
    "myfunc_a(10,20,30,5,5)"
   ]
  },
  {
   "cell_type": "markdown",
   "id": "57503f42",
   "metadata": {},
   "source": [
    "*kwargs is arg returns and treats as dictionary*"
   ]
  },
  {
   "cell_type": "code",
   "execution_count": 10,
   "id": "a1da4edc",
   "metadata": {},
   "outputs": [],
   "source": [
    "def myfunc_k(**kwargs):\n",
    "    print(kwargs)"
   ]
  },
  {
   "cell_type": "code",
   "execution_count": 11,
   "id": "f1b4e4f9",
   "metadata": {},
   "outputs": [
    {
     "name": "stdout",
     "output_type": "stream",
     "text": [
      "{'k1': 1, 'k2': 2, 'k3': 3}\n"
     ]
    }
   ],
   "source": [
    "myfunc_k(k1 = 1, k2 = 2, k3 = 3)"
   ]
  },
  {
   "cell_type": "code",
   "execution_count": 12,
   "id": "13ef9c42",
   "metadata": {},
   "outputs": [],
   "source": [
    "def myfunc_combination(*args, **kwargs):\n",
    "    print(args)\n",
    "    print(kwargs)"
   ]
  },
  {
   "cell_type": "code",
   "execution_count": 13,
   "id": "9cc64975",
   "metadata": {},
   "outputs": [
    {
     "name": "stdout",
     "output_type": "stream",
     "text": [
      "(1, 2, 3, 4)\n",
      "{'k1': 1, 'k2': 2, 'k3': 3, 'k4': 4}\n"
     ]
    }
   ],
   "source": [
    "myfunc_combination(1,2,3,4,k1=1,k2=2,k3=3,k4=4)"
   ]
  },
  {
   "cell_type": "code",
   "execution_count": 14,
   "id": "d5d1ec7c",
   "metadata": {},
   "outputs": [
    {
     "name": "stdout",
     "output_type": "stream",
     "text": [
      "(1, 2, 3, 4)\n",
      "{'k1': 1, 'k2': 2, 'k3': 3, 'k4': 4, 'k5': 5}\n"
     ]
    }
   ],
   "source": [
    "myfunc_combination(1,2,3,4,k1=1,k2=2,k3=3,k4=4,k5=5)"
   ]
  },
  {
   "cell_type": "markdown",
   "id": "aa5d9866",
   "metadata": {},
   "source": [
    "**End Of args kwargs**"
   ]
  }
 ],
 "metadata": {
  "kernelspec": {
   "display_name": "Python 3 (ipykernel)",
   "language": "python",
   "name": "python3"
  },
  "language_info": {
   "codemirror_mode": {
    "name": "ipython",
    "version": 3
   },
   "file_extension": ".py",
   "mimetype": "text/x-python",
   "name": "python",
   "nbconvert_exporter": "python",
   "pygments_lexer": "ipython3",
   "version": "3.9.7"
  }
 },
 "nbformat": 4,
 "nbformat_minor": 5
}
