{
 "cells": [
  {
   "cell_type": "markdown",
   "id": "ef6248f7",
   "metadata": {},
   "source": [
    "# Display Rows Function"
   ]
  },
  {
   "cell_type": "code",
   "execution_count": 1,
   "id": "9d0de6e0",
   "metadata": {},
   "outputs": [],
   "source": [
    "row1 = [' ',' ',' ',]\n",
    "row2 = [' ',' ',' ',]\n",
    "row3 = [' ',' ',' ',]"
   ]
  },
  {
   "cell_type": "code",
   "execution_count": 2,
   "id": "84af42df",
   "metadata": {},
   "outputs": [],
   "source": [
    "def display_rows(row1, row2, row3):\n",
    "    print(row1)\n",
    "    print(row2)\n",
    "    print(row3)"
   ]
  },
  {
   "cell_type": "code",
   "execution_count": 3,
   "id": "79e5bd56",
   "metadata": {},
   "outputs": [
    {
     "name": "stdout",
     "output_type": "stream",
     "text": [
      "[' ', ' ', ' ']\n",
      "[' ', ' ', ' ']\n",
      "[' ', ' ', ' ']\n"
     ]
    }
   ],
   "source": [
    "display_rows(row1,row2,row3)"
   ]
  },
  {
   "cell_type": "code",
   "execution_count": 4,
   "id": "7fcfdbc5",
   "metadata": {},
   "outputs": [],
   "source": [
    "row2[1] = 'X'"
   ]
  },
  {
   "cell_type": "code",
   "execution_count": 5,
   "id": "65c565e6",
   "metadata": {},
   "outputs": [
    {
     "name": "stdout",
     "output_type": "stream",
     "text": [
      "[' ', ' ', ' ']\n",
      "[' ', 'X', ' ']\n",
      "[' ', ' ', ' ']\n"
     ]
    }
   ],
   "source": [
    "display_rows(row1,row2,row3)"
   ]
  },
  {
   "cell_type": "markdown",
   "id": "341505d8",
   "metadata": {},
   "source": [
    "**End of display function**"
   ]
  }
 ],
 "metadata": {
  "kernelspec": {
   "display_name": "Python 3 (ipykernel)",
   "language": "python",
   "name": "python3"
  },
  "language_info": {
   "codemirror_mode": {
    "name": "ipython",
    "version": 3
   },
   "file_extension": ".py",
   "mimetype": "text/x-python",
   "name": "python",
   "nbconvert_exporter": "python",
   "pygments_lexer": "ipython3",
   "version": "3.9.7"
  }
 },
 "nbformat": 4,
 "nbformat_minor": 5
}
