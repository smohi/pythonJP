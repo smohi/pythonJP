{
 "cells": [
  {
   "cell_type": "markdown",
   "id": "6ea7a007",
   "metadata": {},
   "source": [
    "# Display Rows Function"
   ]
  },
  {
   "cell_type": "code",
   "execution_count": 1,
   "id": "9ba2d051",
   "metadata": {},
   "outputs": [],
   "source": [
    "row1 = [' ',' ',' ',]\n",
    "row2 = [' ',' ',' ',]\n",
    "row3 = [' ',' ',' ',]"
   ]
  },
  {
   "cell_type": "code",
   "execution_count": 2,
   "id": "90138a33",
   "metadata": {},
   "outputs": [],
   "source": [
    "def display_rows(row1, row2, row3):\n",
    "    print(row1)\n",
    "    print(row2)\n",
    "    print(row3)"
   ]
  },
  {
   "cell_type": "code",
   "execution_count": 3,
   "id": "26bb3b15",
   "metadata": {},
   "outputs": [
    {
     "name": "stdout",
     "output_type": "stream",
     "text": [
      "[' ', ' ', ' ']\n",
      "[' ', ' ', ' ']\n",
      "[' ', ' ', ' ']\n"
     ]
    }
   ],
   "source": [
    "display_rows(row1,row2,row3)"
   ]
  },
  {
   "cell_type": "code",
   "execution_count": 4,
   "id": "e4ca30bd",
   "metadata": {},
   "outputs": [],
   "source": [
    "row2[1] = 'X'"
   ]
  },
  {
   "cell_type": "code",
   "execution_count": 5,
   "id": "30e178a0",
   "metadata": {},
   "outputs": [
    {
     "name": "stdout",
     "output_type": "stream",
     "text": [
      "[' ', ' ', ' ']\n",
      "[' ', 'X', ' ']\n",
      "[' ', ' ', ' ']\n"
     ]
    }
   ],
   "source": [
    "display_rows(row1,row2,row3)"
   ]
  },
  {
   "cell_type": "markdown",
   "id": "a6069249",
   "metadata": {},
   "source": [
    "**End of display function**"
   ]
  },
  {
   "cell_type": "markdown",
   "id": "4c7c683c",
   "metadata": {},
   "source": [
    "# Input function"
   ]
  },
  {
   "cell_type": "code",
   "execution_count": 7,
   "id": "063bfc5e",
   "metadata": {},
   "outputs": [
    {
     "name": "stdout",
     "output_type": "stream",
     "text": [
      "Please, input a value: 1\n"
     ]
    }
   ],
   "source": [
    "position_index = int(input(\"Please, input a value: \"))"
   ]
  },
  {
   "cell_type": "code",
   "execution_count": null,
   "id": "10d8eb54",
   "metadata": {},
   "outputs": [],
   "source": []
  }
 ],
 "metadata": {
  "kernelspec": {
   "display_name": "Python 3 (ipykernel)",
   "language": "python",
   "name": "python3"
  },
  "language_info": {
   "codemirror_mode": {
    "name": "ipython",
    "version": 3
   },
   "file_extension": ".py",
   "mimetype": "text/x-python",
   "name": "python",
   "nbconvert_exporter": "python",
   "pygments_lexer": "ipython3",
   "version": "3.9.7"
  }
 },
 "nbformat": 4,
 "nbformat_minor": 5
}
