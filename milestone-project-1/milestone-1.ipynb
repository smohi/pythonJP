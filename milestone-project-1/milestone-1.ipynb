{
 "cells": [
  {
   "cell_type": "markdown",
   "id": "8bab6f3f",
   "metadata": {},
   "source": [
    "# Display Rows Function"
   ]
  },
  {
   "cell_type": "code",
   "execution_count": 1,
   "id": "f053261e",
   "metadata": {},
   "outputs": [],
   "source": [
    "row1 = [' ',' ',' ',]\n",
    "row2 = [' ',' ',' ',]\n",
    "row3 = [' ',' ',' ',]"
   ]
  },
  {
   "cell_type": "code",
   "execution_count": 2,
   "id": "f6d6f38b",
   "metadata": {},
   "outputs": [],
   "source": [
    "def display_rows(row1, row2, row3):\n",
    "    print(row1)\n",
    "    print(row2)\n",
    "    print(row3)"
   ]
  },
  {
   "cell_type": "code",
   "execution_count": 3,
   "id": "23dd6191",
   "metadata": {},
   "outputs": [
    {
     "name": "stdout",
     "output_type": "stream",
     "text": [
      "[' ', ' ', ' ']\n",
      "[' ', ' ', ' ']\n",
      "[' ', ' ', ' ']\n"
     ]
    }
   ],
   "source": [
    "display_rows(row1,row2,row3)"
   ]
  },
  {
   "cell_type": "code",
   "execution_count": 4,
   "id": "e919aba5",
   "metadata": {},
   "outputs": [],
   "source": [
    "row2[1] = 'X'"
   ]
  },
  {
   "cell_type": "code",
   "execution_count": 5,
   "id": "de8b3c14",
   "metadata": {},
   "outputs": [
    {
     "name": "stdout",
     "output_type": "stream",
     "text": [
      "[' ', ' ', ' ']\n",
      "[' ', 'X', ' ']\n",
      "[' ', ' ', ' ']\n"
     ]
    }
   ],
   "source": [
    "display_rows(row1,row2,row3)"
   ]
  },
  {
   "cell_type": "markdown",
   "id": "c4f78bee",
   "metadata": {},
   "source": [
    "**End of display function**"
   ]
  },
  {
   "cell_type": "markdown",
   "id": "65f293cd",
   "metadata": {},
   "source": [
    "# Input function"
   ]
  },
  {
   "cell_type": "code",
   "execution_count": 7,
   "id": "86c5496a",
   "metadata": {},
   "outputs": [
    {
     "name": "stdout",
     "output_type": "stream",
     "text": [
      "Please, input a value: 6\n"
     ]
    }
   ],
   "source": [
    "position_index = int(input(\"Please, input a value: \"))"
   ]
  },
  {
   "cell_type": "markdown",
   "id": "16ced091",
   "metadata": {},
   "source": [
    "# User Choice Function"
   ]
  },
  {
   "cell_type": "code",
   "execution_count": 14,
   "id": "cfc74cb7",
   "metadata": {},
   "outputs": [],
   "source": [
    "def user_choice():\n",
    "    '''\n",
    "    user choice function to take user's index input choice\n",
    "    '''\n",
    "    choice = 'Nothing'\n",
    "    \n",
    "    digit_range = range(0,10)\n",
    "    digit_range_check = False\n",
    "    \n",
    "    # using while loop to validate if int value is inputted and within range\n",
    "    \n",
    "    while choice.isdigit() == False or digit_range_check == False:\n",
    "        \n",
    "        \n",
    "        choice = input(\"Please, input a number within (0-10): \")\n",
    "        \n",
    "        if choice.isdigit() == False:\n",
    "            print(\"Sorry is was not a number!\")\n",
    "        \n",
    "        if choice.isdigit() == True:\n",
    "            if int(choice) in digit_range:\n",
    "                digit_range_check = True\n",
    "            else:\n",
    "                print(\"Sorry! You didn't enter inside range. \")\n",
    "                digit_range_check = False\n",
    "    \n",
    "    return int(choice)\n",
    "            \n",
    "    \n",
    "    "
   ]
  },
  {
   "cell_type": "code",
   "execution_count": 16,
   "id": "d1a4affe",
   "metadata": {},
   "outputs": [
    {
     "name": "stdout",
     "output_type": "stream",
     "text": [
      "Please, input a number within (0-10): uytf\n",
      "Sorry is was not a number!\n",
      "Please, input a number within (0-10): 5678\n",
      "Sorry! You didn't enter inside range. \n",
      "Please, input a number within (0-10): 9\n"
     ]
    },
    {
     "data": {
      "text/plain": [
       "9"
      ]
     },
     "execution_count": 16,
     "metadata": {},
     "output_type": "execute_result"
    }
   ],
   "source": [
    "user_choice()"
   ]
  },
  {
   "cell_type": "code",
   "execution_count": null,
   "id": "48e1d98f",
   "metadata": {},
   "outputs": [],
   "source": []
  }
 ],
 "metadata": {
  "kernelspec": {
   "display_name": "Python 3 (ipykernel)",
   "language": "python",
   "name": "python3"
  },
  "language_info": {
   "codemirror_mode": {
    "name": "ipython",
    "version": 3
   },
   "file_extension": ".py",
   "mimetype": "text/x-python",
   "name": "python",
   "nbconvert_exporter": "python",
   "pygments_lexer": "ipython3",
   "version": "3.9.7"
  }
 },
 "nbformat": 4,
 "nbformat_minor": 5
}
