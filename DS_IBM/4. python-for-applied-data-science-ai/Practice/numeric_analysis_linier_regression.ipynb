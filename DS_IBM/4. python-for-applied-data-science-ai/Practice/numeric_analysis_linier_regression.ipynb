{
 "cells": [
  {
   "cell_type": "code",
   "execution_count": 49,
   "metadata": {},
   "outputs": [],
   "source": [
    "x=[6,8,12,14,18]\n",
    "y=[350,775,1150,1395,1675]"
   ]
  },
  {
   "cell_type": "code",
   "execution_count": 50,
   "metadata": {},
   "outputs": [],
   "source": [
    "x_b=sum(x)/len(x)\n",
    "y_b=sum(y)/len(y)\n",
    "xy=[]\n",
    "x2=[]"
   ]
  },
  {
   "cell_type": "code",
   "execution_count": 51,
   "metadata": {},
   "outputs": [
    {
     "name": "stdout",
     "output_type": "stream",
     "text": [
      "xy = [2100, 6200, 13800, 19530, 30150]\n"
     ]
    }
   ],
   "source": [
    "for i in range(0,len(x)):\n",
    "    j=x[i]*y[i]\n",
    "    xy.append(j)\n",
    "print(\"xy = \"+ str(xy))"
   ]
  },
  {
   "cell_type": "code",
   "execution_count": 52,
   "metadata": {},
   "outputs": [
    {
     "name": "stdout",
     "output_type": "stream",
     "text": [
      "[36, 64, 144, 196, 324]\n"
     ]
    }
   ],
   "source": [
    "for i in range(0,len(x)):\n",
    "    x2.append(x[i]*x[i])\n",
    "print(x2)"
   ]
  },
  {
   "cell_type": "code",
   "execution_count": 53,
   "metadata": {},
   "outputs": [
    {
     "name": "stdout",
     "output_type": "stream",
     "text": [
      "14356.0\n"
     ]
    }
   ],
   "source": [
    "xy_b=sum(xy)/len(xy)\n",
    "print(xy_b)"
   ]
  },
  {
   "cell_type": "code",
   "execution_count": 54,
   "metadata": {},
   "outputs": [
    {
     "name": "stdout",
     "output_type": "stream",
     "text": [
      "152.8\n"
     ]
    }
   ],
   "source": [
    "x2_b=sum(x2)/len(x2)\n",
    "print(x2_b)"
   ]
  },
  {
   "cell_type": "code",
   "execution_count": 57,
   "metadata": {},
   "outputs": [
    {
     "name": "stdout",
     "output_type": "stream",
     "text": [
      "107.21491228070172\n"
     ]
    }
   ],
   "source": [
    "m=(x_b*y_b-xy_b)/(x_b*x_b-x2_b)\n",
    "print(m)"
   ]
  },
  {
   "cell_type": "code",
   "execution_count": 58,
   "metadata": {},
   "outputs": [
    {
     "name": "stdout",
     "output_type": "stream",
     "text": [
      "-174.69298245614004\n"
     ]
    }
   ],
   "source": [
    "c=y_b-m*x_b\n",
    "print(c)"
   ]
  },
  {
   "cell_type": "markdown",
   "metadata": {},
   "source": [
    "## Put value of x in <i>value</i>"
   ]
  },
  {
   "cell_type": "code",
   "execution_count": 61,
   "metadata": {},
   "outputs": [
    {
     "name": "stdout",
     "output_type": "stream",
     "text": [
      "result = 1862.39\n"
     ]
    }
   ],
   "source": [
    "value= 19\n",
    "\n",
    "result = m*value+c\n",
    "\n",
    "print(\"result = \"+str(round(result,2)))"
   ]
  },
  {
   "cell_type": "markdown",
   "metadata": {},
   "source": [
    "## R-squared value"
   ]
  },
  {
   "cell_type": "markdown",
   "metadata": {},
   "source": [
    "### marked results"
   ]
  },
  {
   "cell_type": "code",
   "execution_count": 66,
   "metadata": {},
   "outputs": [
    {
     "name": "stdout",
     "output_type": "stream",
     "text": [
      "[468.6, 683.03, 1111.89, 1326.32, 1755.18]\n"
     ]
    }
   ],
   "source": [
    "y_m=[]\n",
    "\n",
    "for i in range (0,len(x)):\n",
    "    value_m = x[i]\n",
    "    result_m = m*value_m+c\n",
    "    y_m.append(round(result_m,2))\n",
    "print(y_m)"
   ]
  },
  {
   "cell_type": "code",
   "execution_count": 78,
   "metadata": {},
   "outputs": [
    {
     "name": "stdout",
     "output_type": "stream",
     "text": [
      "0.97\n"
     ]
    }
   ],
   "source": [
    "r_up=0\n",
    "r_down=0\n",
    "for i in range(0,len(x)):\n",
    "    r_up = r_up + (y_m[i]-y_b)**2\n",
    "    r_down = r_down + (y[i]-y_b)**2\n",
    "r2= r_up/r_down\n",
    "print(round(r2,2))"
   ]
  },
  {
   "cell_type": "code",
   "execution_count": null,
   "metadata": {},
   "outputs": [],
   "source": []
  }
 ],
 "metadata": {
  "kernelspec": {
   "display_name": "Python 3",
   "language": "python",
   "name": "python3"
  },
  "language_info": {
   "codemirror_mode": {
    "name": "ipython",
    "version": 3
   },
   "file_extension": ".py",
   "mimetype": "text/x-python",
   "name": "python",
   "nbconvert_exporter": "python",
   "pygments_lexer": "ipython3",
   "version": "3.7.1"
  }
 },
 "nbformat": 4,
 "nbformat_minor": 2
}
