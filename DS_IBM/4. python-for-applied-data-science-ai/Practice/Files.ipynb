{
 "cells": [
  {
   "cell_type": "markdown",
   "metadata": {},
   "source": [
    "### Read Data "
   ]
  },
  {
   "cell_type": "code",
   "execution_count": 2,
   "metadata": {},
   "outputs": [
    {
     "name": "stdout",
     "output_type": "stream",
     "text": [
      "['line one\\\\nline two']\n"
     ]
    }
   ],
   "source": [
    "with open(\"C:/Users/smohi/OneDrive/Desktop/instant/DS/4. python-for-applied-data-science-ai/Practice/e1.txt\",\"r\") as File1:\n",
    "    file_stuff = File1.readlines()\n",
    "    print(file_stuff)"
   ]
  },
  {
   "cell_type": "code",
   "execution_count": 3,
   "metadata": {},
   "outputs": [
    {
     "name": "stdout",
     "output_type": "stream",
     "text": [
      "line one\\nline two\n"
     ]
    }
   ],
   "source": [
    "with open(\"C:/Users/smohi/OneDrive/Desktop/instant/DS/4. python-for-applied-data-science-ai/Practice/e1.txt\",\"r\") as File1:\n",
    "    file_stuff = File1.readline()\n",
    "    print(file_stuff)"
   ]
  },
  {
   "cell_type": "code",
   "execution_count": 4,
   "metadata": {},
   "outputs": [
    {
     "name": "stdout",
     "output_type": "stream",
     "text": [
      "line o\n"
     ]
    }
   ],
   "source": [
    "with open(\"C:/Users/smohi/OneDrive/Desktop/instant/DS/4. python-for-applied-data-science-ai/Practice/e1.txt\",\"r\") as File1:\n",
    "    file_stuff = File1.readline(6)\n",
    "    print(file_stuff)"
   ]
  },
  {
   "cell_type": "code",
   "execution_count": 5,
   "metadata": {},
   "outputs": [
    {
     "name": "stdout",
     "output_type": "stream",
     "text": [
      "line one\\\n"
     ]
    }
   ],
   "source": [
    "with open(\"C:/Users/smohi/OneDrive/Desktop/instant/DS/4. python-for-applied-data-science-ai/Practice/e1.txt\",\"r\") as File1:\n",
    "    file_stuff = File1.readline(9)\n",
    "    print(file_stuff)"
   ]
  },
  {
   "cell_type": "code",
   "execution_count": 6,
   "metadata": {},
   "outputs": [
    {
     "name": "stdout",
     "output_type": "stream",
     "text": [
      "line o\n",
      "ne\\n\n"
     ]
    }
   ],
   "source": [
    "with open(\"C:/Users/smohi/OneDrive/Desktop/instant/DS/4. python-for-applied-data-science-ai/Practice/e1.txt\",\"r\") as File1:\n",
    "    file_stuff = File1.readline(6)\n",
    "    print(file_stuff)\n",
    "    file_stuff = File1.readline(4)\n",
    "    print(file_stuff)"
   ]
  },
  {
   "cell_type": "code",
   "execution_count": 9,
   "metadata": {},
   "outputs": [
    {
     "name": "stdout",
     "output_type": "stream",
     "text": [
      "line one\\nline two\n",
      "\n"
     ]
    }
   ],
   "source": [
    "with open(\"C:/Users/smohi/OneDrive/Desktop/instant/DS/4. python-for-applied-data-science-ai/Practice/e1.txt\",\"r\") as File1:\n",
    "    file_stuff = File1.read()\n",
    "    print(file_stuff)\n",
    "    file_stuff = File1.readline()\n",
    "    print(file_stuff)"
   ]
  },
  {
   "cell_type": "code",
   "execution_count": 10,
   "metadata": {},
   "outputs": [
    {
     "name": "stdout",
     "output_type": "stream",
     "text": [
      "\n"
     ]
    }
   ],
   "source": [
    "print(file_stuff)"
   ]
  },
  {
   "cell_type": "markdown",
   "metadata": {},
   "source": [
    "###  Write data"
   ]
  },
  {
   "cell_type": "code",
   "execution_count": 19,
   "metadata": {},
   "outputs": [],
   "source": [
    "with open(\"C:/Users/smohi/OneDrive/Desktop/instant/DS/4. python-for-applied-data-science-ai/Practice/e3.txt\",\"w\") as File2:\n",
    "    File2.write(\"Hello, New File!\")\n",
    "    File2.write(\"\\nHello, New line!\")"
   ]
  },
  {
   "cell_type": "code",
   "execution_count": 20,
   "metadata": {},
   "outputs": [],
   "source": [
    "with open(\"C:/Users/smohi/OneDrive/Desktop/instant/DS/4. python-for-applied-data-science-ai/Practice/e3.txt\",\"w\") as File2:\n",
    "    File2.write(\"Hello, New File!\")\n",
    "    File2.write(\"\\nHello, New line!\")"
   ]
  },
  {
   "cell_type": "code",
   "execution_count": null,
   "metadata": {},
   "outputs": [],
   "source": []
  }
 ],
 "metadata": {
  "kernelspec": {
   "display_name": "Python 3",
   "language": "python",
   "name": "python3"
  },
  "language_info": {
   "codemirror_mode": {
    "name": "ipython",
    "version": 3
   },
   "file_extension": ".py",
   "mimetype": "text/x-python",
   "name": "python",
   "nbconvert_exporter": "python",
   "pygments_lexer": "ipython3",
   "version": "3.7.1"
  }
 },
 "nbformat": 4,
 "nbformat_minor": 2
}
