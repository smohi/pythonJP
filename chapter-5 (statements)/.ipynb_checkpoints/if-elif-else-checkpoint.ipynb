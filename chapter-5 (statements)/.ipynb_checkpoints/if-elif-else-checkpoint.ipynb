{
 "cells": [
  {
   "cell_type": "markdown",
   "id": "c603ef75",
   "metadata": {},
   "source": [
    "<h3>If, Elif & Else</h3>"
   ]
  },
  {
   "cell_type": "code",
   "execution_count": 3,
   "id": "c959c3a9",
   "metadata": {},
   "outputs": [
    {
     "name": "stdout",
     "output_type": "stream",
     "text": [
      "even\n"
     ]
    }
   ],
   "source": [
    "if 12%2 == 0:\n",
    "    print('even')\n",
    "else:\n",
    "    print('odd')"
   ]
  },
  {
   "cell_type": "code",
   "execution_count": 4,
   "id": "1d745cd7",
   "metadata": {},
   "outputs": [
    {
     "name": "stdout",
     "output_type": "stream",
     "text": [
      "odd\n"
     ]
    }
   ],
   "source": [
    "if 11%2 == 0:\n",
    "    print('even')\n",
    "else:\n",
    "    print('odd')"
   ]
  },
  {
   "cell_type": "code",
   "execution_count": 6,
   "id": "a6966695",
   "metadata": {},
   "outputs": [
    {
     "name": "stdout",
     "output_type": "stream",
     "text": [
      "zero\n"
     ]
    }
   ],
   "source": [
    "if 121%2 == 0:\n",
    "    print('even')\n",
    "elif 0 == 0:\n",
    "    print('zero')\n",
    "else:\n",
    "    print('odd')"
   ]
  },
  {
   "cell_type": "code",
   "execution_count": 10,
   "id": "73e90825",
   "metadata": {},
   "outputs": [
    {
     "name": "stdout",
     "output_type": "stream",
     "text": [
      "Give him a cup of tea\n"
     ]
    }
   ],
   "source": [
    "low_budget = False\n",
    "mid_budget = False\n",
    "good_budget = False\n",
    "\n",
    "if low_budget == True:\n",
    "    print('Give him pack Lily')\n",
    "elif mid_budget == True:\n",
    "    print('Give him pack Jasmine')\n",
    "elif good_budget == True:\n",
    "    print('Give him pack Rose')\n",
    "else:\n",
    "    print('Give him a cup of tea')"
   ]
  },
  {
   "cell_type": "code",
   "execution_count": 12,
   "id": "ec9ed392",
   "metadata": {},
   "outputs": [
    {
     "name": "stdout",
     "output_type": "stream",
     "text": [
      "Give him pack Rose\n"
     ]
    }
   ],
   "source": [
    "low_budget = False\n",
    "mid_budget = False\n",
    "good_budget = True\n",
    "\n",
    "if low_budget == True:\n",
    "    print('Give him pack Lily')\n",
    "elif mid_budget == True:\n",
    "    print('Give him pack Jasmine')\n",
    "elif good_budget == True:\n",
    "    print('Give him pack Rose')\n",
    "else:\n",
    "    print('Give him a cup of tea')"
   ]
  },
  {
   "cell_type": "markdown",
   "id": "e369dfcc",
   "metadata": {},
   "source": [
    "**End of if elif else**"
   ]
  }
 ],
 "metadata": {
  "kernelspec": {
   "display_name": "Python 3 (ipykernel)",
   "language": "python",
   "name": "python3"
  },
  "language_info": {
   "codemirror_mode": {
    "name": "ipython",
    "version": 3
   },
   "file_extension": ".py",
   "mimetype": "text/x-python",
   "name": "python",
   "nbconvert_exporter": "python",
   "pygments_lexer": "ipython3",
   "version": "3.9.7"
  }
 },
 "nbformat": 4,
 "nbformat_minor": 5
}
