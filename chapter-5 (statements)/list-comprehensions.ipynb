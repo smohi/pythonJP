{
 "cells": [
  {
   "cell_type": "code",
   "execution_count": 1,
   "id": "1e91e999",
   "metadata": {},
   "outputs": [],
   "source": [
    "mystring = \"hello\""
   ]
  },
  {
   "cell_type": "code",
   "execution_count": 3,
   "id": "519905da",
   "metadata": {},
   "outputs": [
    {
     "name": "stdout",
     "output_type": "stream",
     "text": [
      "['h', 'e', 'l', 'l', 'o']\n"
     ]
    }
   ],
   "source": [
    "mylist = []\n",
    "\n",
    "for letter in mystring:\n",
    "    mylist.append(letter)\n",
    "    \n",
    "print(mylist)"
   ]
  },
  {
   "cell_type": "code",
   "execution_count": 4,
   "id": "9007f71c",
   "metadata": {},
   "outputs": [],
   "source": [
    "mylist_2 = [letter for letter in mystring]"
   ]
  },
  {
   "cell_type": "code",
   "execution_count": 5,
   "id": "a2ee561a",
   "metadata": {},
   "outputs": [
    {
     "data": {
      "text/plain": [
       "['h', 'e', 'l', 'l', 'o']"
      ]
     },
     "execution_count": 5,
     "metadata": {},
     "output_type": "execute_result"
    }
   ],
   "source": [
    "mylist_2"
   ]
  },
  {
   "cell_type": "code",
   "execution_count": 6,
   "id": "65b6ace7",
   "metadata": {},
   "outputs": [],
   "source": [
    "my_int_list = [x for x in range(0,21)]"
   ]
  },
  {
   "cell_type": "code",
   "execution_count": 7,
   "id": "f5f3dbdc",
   "metadata": {},
   "outputs": [
    {
     "data": {
      "text/plain": [
       "[0, 1, 2, 3, 4, 5, 6, 7, 8, 9, 10, 11, 12, 13, 14, 15, 16, 17, 18, 19, 20]"
      ]
     },
     "execution_count": 7,
     "metadata": {},
     "output_type": "execute_result"
    }
   ],
   "source": [
    "my_int_list"
   ]
  },
  {
   "cell_type": "code",
   "execution_count": 8,
   "id": "ca7eaefe",
   "metadata": {},
   "outputs": [],
   "source": [
    "my_even_num_list = [x for x in range(0, 21, 2)]"
   ]
  },
  {
   "cell_type": "code",
   "execution_count": 9,
   "id": "80194516",
   "metadata": {},
   "outputs": [
    {
     "data": {
      "text/plain": [
       "[0, 2, 4, 6, 8, 10, 12, 14, 16, 18, 20]"
      ]
     },
     "execution_count": 9,
     "metadata": {},
     "output_type": "execute_result"
    }
   ],
   "source": [
    "my_even_num_list"
   ]
  },
  {
   "cell_type": "code",
   "execution_count": 10,
   "id": "a85f89c0",
   "metadata": {},
   "outputs": [],
   "source": [
    "my_even_num_list2 = [x for x in range(0, 21) if x%2==0]"
   ]
  },
  {
   "cell_type": "code",
   "execution_count": 11,
   "id": "84ae1d84",
   "metadata": {},
   "outputs": [
    {
     "data": {
      "text/plain": [
       "[0, 2, 4, 6, 8, 10, 12, 14, 16, 18, 20]"
      ]
     },
     "execution_count": 11,
     "metadata": {},
     "output_type": "execute_result"
    }
   ],
   "source": [
    "my_even_num_list2"
   ]
  },
  {
   "cell_type": "markdown",
   "id": "acfcd17e",
   "metadata": {},
   "source": [
    "**End of List Comprehension**"
   ]
  }
 ],
 "metadata": {
  "kernelspec": {
   "display_name": "Python 3 (ipykernel)",
   "language": "python",
   "name": "python3"
  },
  "language_info": {
   "codemirror_mode": {
    "name": "ipython",
    "version": 3
   },
   "file_extension": ".py",
   "mimetype": "text/x-python",
   "name": "python",
   "nbconvert_exporter": "python",
   "pygments_lexer": "ipython3",
   "version": "3.9.7"
  }
 },
 "nbformat": 4,
 "nbformat_minor": 5
}
